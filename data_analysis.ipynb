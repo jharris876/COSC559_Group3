{
 "cells": [
  {
   "cell_type": "markdown",
   "metadata": {},
   "source": [
    "# Fitts Law Analysis"
   ]
  },
  {
   "cell_type": "code",
   "execution_count": 1,
   "metadata": {},
   "outputs": [
    {
     "name": "stdout",
     "output_type": "stream",
     "text": [
      "(67, 8)\n",
      "(40, 8)\n"
     ]
    }
   ],
   "source": [
    "import json\n",
    "import pandas as pd\n",
    "import numpy as np\n",
    "\n",
    "f_mouse = open('./input/interaction_data_mouse.json', 'r')\n",
    "f_track = open('./input/interaction_data_trackpad.json', 'r')\n",
    "\n",
    "mouse_data = json.load(f_mouse)\n",
    "mouse_df = pd.json_normalize(mouse_data, record_path=['logs'])\n",
    "mouse_df['group'] = 'mouse'\n",
    "\n",
    "tp_data = json.load(f_track)\n",
    "tp_df = pd.json_normalize(tp_data, record_path=['logs'])\n",
    "tp_df['group'] = 'trackpad'\n",
    "\n",
    "print(mouse_df.shape)\n",
    "print(tp_df.shape)"
   ]
  },
  {
   "cell_type": "code",
   "execution_count": 2,
   "metadata": {},
   "outputs": [
    {
     "name": "stdout",
     "output_type": "stream",
     "text": [
      "(107, 8)\n"
     ]
    },
    {
     "data": {
      "application/vnd.microsoft.datawrangler.viewer.v0+json": {
       "columns": [
        {
         "name": "index",
         "rawType": "int64",
         "type": "integer"
        },
        {
         "name": "clickNum",
         "rawType": "int64",
         "type": "integer"
        },
        {
         "name": "clickTime",
         "rawType": "int64",
         "type": "integer"
        },
        {
         "name": "timeDiff",
         "rawType": "int64",
         "type": "integer"
        },
        {
         "name": "buttonHeight",
         "rawType": "int64",
         "type": "integer"
        },
        {
         "name": "buttonWidth",
         "rawType": "int64",
         "type": "integer"
        },
        {
         "name": "buttonX",
         "rawType": "int64",
         "type": "integer"
        },
        {
         "name": "buttonY",
         "rawType": "int64",
         "type": "integer"
        },
        {
         "name": "group",
         "rawType": "object",
         "type": "string"
        }
       ],
       "conversionMethod": "pd.DataFrame",
       "ref": "78b57b52-76e6-4a19-b542-c79153ce1d90",
       "rows": [
        [
         "0",
         "1",
         "1740538904965",
         "0",
         "50",
         "50",
         "30",
         "60",
         "mouse"
        ],
        [
         "1",
         "2",
         "1740538905458",
         "493",
         "95",
         "209",
         "110",
         "71",
         "mouse"
        ],
        [
         "2",
         "3",
         "1740538905848",
         "390",
         "203",
         "53",
         "269",
         "203",
         "mouse"
        ],
        [
         "3",
         "4",
         "1740538906439",
         "591",
         "110",
         "64",
         "36",
         "384",
         "mouse"
        ],
        [
         "4",
         "5",
         "1740538906837",
         "398",
         "171",
         "146",
         "301",
         "286",
         "mouse"
        ]
       ],
       "shape": {
        "columns": 8,
        "rows": 5
       }
      },
      "text/html": [
       "<div>\n",
       "<style scoped>\n",
       "    .dataframe tbody tr th:only-of-type {\n",
       "        vertical-align: middle;\n",
       "    }\n",
       "\n",
       "    .dataframe tbody tr th {\n",
       "        vertical-align: top;\n",
       "    }\n",
       "\n",
       "    .dataframe thead th {\n",
       "        text-align: right;\n",
       "    }\n",
       "</style>\n",
       "<table border=\"1\" class=\"dataframe\">\n",
       "  <thead>\n",
       "    <tr style=\"text-align: right;\">\n",
       "      <th></th>\n",
       "      <th>clickNum</th>\n",
       "      <th>clickTime</th>\n",
       "      <th>timeDiff</th>\n",
       "      <th>buttonHeight</th>\n",
       "      <th>buttonWidth</th>\n",
       "      <th>buttonX</th>\n",
       "      <th>buttonY</th>\n",
       "      <th>group</th>\n",
       "    </tr>\n",
       "  </thead>\n",
       "  <tbody>\n",
       "    <tr>\n",
       "      <th>0</th>\n",
       "      <td>1</td>\n",
       "      <td>1740538904965</td>\n",
       "      <td>0</td>\n",
       "      <td>50</td>\n",
       "      <td>50</td>\n",
       "      <td>30</td>\n",
       "      <td>60</td>\n",
       "      <td>mouse</td>\n",
       "    </tr>\n",
       "    <tr>\n",
       "      <th>1</th>\n",
       "      <td>2</td>\n",
       "      <td>1740538905458</td>\n",
       "      <td>493</td>\n",
       "      <td>95</td>\n",
       "      <td>209</td>\n",
       "      <td>110</td>\n",
       "      <td>71</td>\n",
       "      <td>mouse</td>\n",
       "    </tr>\n",
       "    <tr>\n",
       "      <th>2</th>\n",
       "      <td>3</td>\n",
       "      <td>1740538905848</td>\n",
       "      <td>390</td>\n",
       "      <td>203</td>\n",
       "      <td>53</td>\n",
       "      <td>269</td>\n",
       "      <td>203</td>\n",
       "      <td>mouse</td>\n",
       "    </tr>\n",
       "    <tr>\n",
       "      <th>3</th>\n",
       "      <td>4</td>\n",
       "      <td>1740538906439</td>\n",
       "      <td>591</td>\n",
       "      <td>110</td>\n",
       "      <td>64</td>\n",
       "      <td>36</td>\n",
       "      <td>384</td>\n",
       "      <td>mouse</td>\n",
       "    </tr>\n",
       "    <tr>\n",
       "      <th>4</th>\n",
       "      <td>5</td>\n",
       "      <td>1740538906837</td>\n",
       "      <td>398</td>\n",
       "      <td>171</td>\n",
       "      <td>146</td>\n",
       "      <td>301</td>\n",
       "      <td>286</td>\n",
       "      <td>mouse</td>\n",
       "    </tr>\n",
       "  </tbody>\n",
       "</table>\n",
       "</div>"
      ],
      "text/plain": [
       "   clickNum      clickTime  timeDiff  buttonHeight  buttonWidth  buttonX  \\\n",
       "0         1  1740538904965         0            50           50       30   \n",
       "1         2  1740538905458       493            95          209      110   \n",
       "2         3  1740538905848       390           203           53      269   \n",
       "3         4  1740538906439       591           110           64       36   \n",
       "4         5  1740538906837       398           171          146      301   \n",
       "\n",
       "   buttonY  group  \n",
       "0       60  mouse  \n",
       "1       71  mouse  \n",
       "2      203  mouse  \n",
       "3      384  mouse  \n",
       "4      286  mouse  "
      ]
     },
     "execution_count": 2,
     "metadata": {},
     "output_type": "execute_result"
    }
   ],
   "source": [
    "all_data = pd.concat([mouse_df, tp_df])\n",
    "\n",
    "print(all_data.shape)\n",
    "all_data.head()"
   ]
  },
  {
   "cell_type": "markdown",
   "metadata": {},
   "source": [
    "## Fitts's law\n",
    "$MT = a + b * log2(2D/W)$\n",
    "\n",
    "MT is the average time to complete the movement.\n",
    "\n",
    "- a and b are constants that depend on the choice of input device and are usually determined empirically by regression analysis. \n",
    "- a defines the intersection on the y axis and is often interpreted as a delay. \n",
    "- The b parameter is a slope and describes an acceleration. \n",
    "- Both parameters show the linear dependency in Fitts's law.[10]\n",
    "\n",
    "- ID is the index of difficulty.\n",
    "- D is the distance from the starting point to the center of the target.\n",
    "- W is the width of the target measured along the axis of motion. \n",
    "- W can also be thought of as the allowed error tolerance in the final position, since the final point of the motion must fall within ±W⁄2 of the target's center.\n",
    "\n",
    "Imagine a mouse cursor on a screen needing to click a button 100 pixels away (D=100) with a width of 50 pixels (W=50). \n",
    "\n",
    "W = buttonWidth \n",
    "\n",
    "$\\mathrm{ID}=\\log _2\\left(\\frac{2 D}{W}\\right)$\n",
    "\n",
    "### Distance Formula\n",
    "\n",
    "Regular Formula:\n",
    "\n",
    "$d = \\sqrt {\\left( {x_1 - x_2 } \\right)^2 + \\left( {y_1 - y_2 } \\right)^2 }$\n",
    "\n",
    "\n",
    "Project Formula:\n",
    "\n",
    "$D = \\sqrt {\\left( {buttonX_1 - buttonX_2 } \\right)^2 + \\left( {buttonY_1 - buttonY_2 } \\right)^2 }$\n",
    "\n",
    "Where the first sample is the initial starting point, then X1 is the previous button location"
   ]
  },
  {
   "cell_type": "markdown",
   "metadata": {},
   "source": [
    "## Analysis"
   ]
  },
  {
   "cell_type": "code",
   "execution_count": 3,
   "metadata": {},
   "outputs": [
    {
     "data": {
      "application/vnd.microsoft.datawrangler.viewer.v0+json": {
       "columns": [
        {
         "name": "index",
         "rawType": "int64",
         "type": "integer"
        },
        {
         "name": "clickNum",
         "rawType": "int64",
         "type": "integer"
        },
        {
         "name": "clickTime",
         "rawType": "int64",
         "type": "integer"
        },
        {
         "name": "timeDiff",
         "rawType": "int64",
         "type": "integer"
        },
        {
         "name": "buttonHeight",
         "rawType": "int64",
         "type": "integer"
        },
        {
         "name": "buttonWidth",
         "rawType": "int64",
         "type": "integer"
        },
        {
         "name": "buttonX",
         "rawType": "int64",
         "type": "integer"
        },
        {
         "name": "buttonY",
         "rawType": "int64",
         "type": "integer"
        },
        {
         "name": "group",
         "rawType": "object",
         "type": "string"
        },
        {
         "name": "w",
         "rawType": "int64",
         "type": "integer"
        },
        {
         "name": "x1",
         "rawType": "float64",
         "type": "float"
        },
        {
         "name": "y1",
         "rawType": "float64",
         "type": "float"
        },
        {
         "name": "(x1-x2)^2",
         "rawType": "float64",
         "type": "float"
        },
        {
         "name": "(y1-y2)^2",
         "rawType": "float64",
         "type": "float"
        },
        {
         "name": "d",
         "rawType": "float64",
         "type": "float"
        }
       ],
       "conversionMethod": "pd.DataFrame",
       "ref": "8cbf8803-01b9-4193-993f-19316c210b57",
       "rows": [
        [
         "0",
         "2",
         "1740538905458",
         "493",
         "95",
         "209",
         "110",
         "71",
         "mouse",
         "209",
         null,
         null,
         "110.0",
         "71.0",
         "13.45362404707371"
        ],
        [
         "1",
         "3",
         "1740538905848",
         "390",
         "203",
         "53",
         "269",
         "203",
         "mouse",
         "53",
         "110.0",
         "71.0",
         "25281.0",
         "17424.0",
         "206.65188119153427"
        ],
        [
         "2",
         "4",
         "1740538906439",
         "591",
         "110",
         "64",
         "36",
         "384",
         "mouse",
         "64",
         "269.0",
         "203.0",
         "54289.0",
         "32761.0",
         "295.0423698386386"
        ],
        [
         "3",
         "5",
         "1740538906837",
         "398",
         "171",
         "146",
         "301",
         "286",
         "mouse",
         "146",
         "36.0",
         "384.0",
         "70225.0",
         "9604.0",
         "282.5402626175604"
        ],
        [
         "4",
         "6",
         "1740538907311",
         "473",
         "227",
         "34",
         "516",
         "45",
         "mouse",
         "34",
         "301.0",
         "286.0",
         "46225.0",
         "58081.0",
         "322.9643943223463"
        ]
       ],
       "shape": {
        "columns": 14,
        "rows": 5
       }
      },
      "text/html": [
       "<div>\n",
       "<style scoped>\n",
       "    .dataframe tbody tr th:only-of-type {\n",
       "        vertical-align: middle;\n",
       "    }\n",
       "\n",
       "    .dataframe tbody tr th {\n",
       "        vertical-align: top;\n",
       "    }\n",
       "\n",
       "    .dataframe thead th {\n",
       "        text-align: right;\n",
       "    }\n",
       "</style>\n",
       "<table border=\"1\" class=\"dataframe\">\n",
       "  <thead>\n",
       "    <tr style=\"text-align: right;\">\n",
       "      <th></th>\n",
       "      <th>clickNum</th>\n",
       "      <th>clickTime</th>\n",
       "      <th>timeDiff</th>\n",
       "      <th>buttonHeight</th>\n",
       "      <th>buttonWidth</th>\n",
       "      <th>buttonX</th>\n",
       "      <th>buttonY</th>\n",
       "      <th>group</th>\n",
       "      <th>w</th>\n",
       "      <th>x1</th>\n",
       "      <th>y1</th>\n",
       "      <th>(x1-x2)^2</th>\n",
       "      <th>(y1-y2)^2</th>\n",
       "      <th>d</th>\n",
       "    </tr>\n",
       "  </thead>\n",
       "  <tbody>\n",
       "    <tr>\n",
       "      <th>0</th>\n",
       "      <td>2</td>\n",
       "      <td>1740538905458</td>\n",
       "      <td>493</td>\n",
       "      <td>95</td>\n",
       "      <td>209</td>\n",
       "      <td>110</td>\n",
       "      <td>71</td>\n",
       "      <td>mouse</td>\n",
       "      <td>209</td>\n",
       "      <td>NaN</td>\n",
       "      <td>NaN</td>\n",
       "      <td>110.0</td>\n",
       "      <td>71.0</td>\n",
       "      <td>13.453624</td>\n",
       "    </tr>\n",
       "    <tr>\n",
       "      <th>1</th>\n",
       "      <td>3</td>\n",
       "      <td>1740538905848</td>\n",
       "      <td>390</td>\n",
       "      <td>203</td>\n",
       "      <td>53</td>\n",
       "      <td>269</td>\n",
       "      <td>203</td>\n",
       "      <td>mouse</td>\n",
       "      <td>53</td>\n",
       "      <td>110.0</td>\n",
       "      <td>71.0</td>\n",
       "      <td>25281.0</td>\n",
       "      <td>17424.0</td>\n",
       "      <td>206.651881</td>\n",
       "    </tr>\n",
       "    <tr>\n",
       "      <th>2</th>\n",
       "      <td>4</td>\n",
       "      <td>1740538906439</td>\n",
       "      <td>591</td>\n",
       "      <td>110</td>\n",
       "      <td>64</td>\n",
       "      <td>36</td>\n",
       "      <td>384</td>\n",
       "      <td>mouse</td>\n",
       "      <td>64</td>\n",
       "      <td>269.0</td>\n",
       "      <td>203.0</td>\n",
       "      <td>54289.0</td>\n",
       "      <td>32761.0</td>\n",
       "      <td>295.042370</td>\n",
       "    </tr>\n",
       "    <tr>\n",
       "      <th>3</th>\n",
       "      <td>5</td>\n",
       "      <td>1740538906837</td>\n",
       "      <td>398</td>\n",
       "      <td>171</td>\n",
       "      <td>146</td>\n",
       "      <td>301</td>\n",
       "      <td>286</td>\n",
       "      <td>mouse</td>\n",
       "      <td>146</td>\n",
       "      <td>36.0</td>\n",
       "      <td>384.0</td>\n",
       "      <td>70225.0</td>\n",
       "      <td>9604.0</td>\n",
       "      <td>282.540263</td>\n",
       "    </tr>\n",
       "    <tr>\n",
       "      <th>4</th>\n",
       "      <td>6</td>\n",
       "      <td>1740538907311</td>\n",
       "      <td>473</td>\n",
       "      <td>227</td>\n",
       "      <td>34</td>\n",
       "      <td>516</td>\n",
       "      <td>45</td>\n",
       "      <td>mouse</td>\n",
       "      <td>34</td>\n",
       "      <td>301.0</td>\n",
       "      <td>286.0</td>\n",
       "      <td>46225.0</td>\n",
       "      <td>58081.0</td>\n",
       "      <td>322.964394</td>\n",
       "    </tr>\n",
       "  </tbody>\n",
       "</table>\n",
       "</div>"
      ],
      "text/plain": [
       "   clickNum      clickTime  timeDiff  buttonHeight  buttonWidth  buttonX  \\\n",
       "0         2  1740538905458       493            95          209      110   \n",
       "1         3  1740538905848       390           203           53      269   \n",
       "2         4  1740538906439       591           110           64       36   \n",
       "3         5  1740538906837       398           171          146      301   \n",
       "4         6  1740538907311       473           227           34      516   \n",
       "\n",
       "   buttonY  group    w     x1     y1  (x1-x2)^2  (y1-y2)^2           d  \n",
       "0       71  mouse  209    NaN    NaN      110.0       71.0   13.453624  \n",
       "1      203  mouse   53  110.0   71.0    25281.0    17424.0  206.651881  \n",
       "2      384  mouse   64  269.0  203.0    54289.0    32761.0  295.042370  \n",
       "3      286  mouse  146   36.0  384.0    70225.0     9604.0  282.540263  \n",
       "4       45  mouse   34  301.0  286.0    46225.0    58081.0  322.964394  "
      ]
     },
     "execution_count": 3,
     "metadata": {},
     "output_type": "execute_result"
    }
   ],
   "source": [
    "analysis = all_data.copy()\n",
    "# excluding first clicks for both runs\n",
    "analysis = analysis[analysis['clickNum'] != 1].reset_index(drop=True)\n",
    "\n",
    "analysis['w'] = analysis['buttonWidth']\n",
    "\n",
    "# fields for distance calculation\n",
    "analysis['x1'] = analysis['buttonX'].shift(1)\n",
    "analysis['y1'] = analysis['buttonY'].shift(1)\n",
    "analysis['(x1-x2)^2'] = analysis.apply(\n",
    "                    lambda row: (row['x1'] - row['buttonX'])**2 if pd.notna(row['x1']) else row['buttonX'], axis=1\n",
    "                )\n",
    "analysis['(y1-y2)^2'] = analysis.apply(\n",
    "                    lambda row: (row['y1'] - row['buttonY'])**2 if pd.notna(row['y1']) else row['buttonY'], axis=1\n",
    "                )\n",
    "analysis['d'] = np.sqrt(analysis['(x1-x2)^2'] + analysis['(y1-y2)^2'])\n",
    "\n",
    "analysis.head()"
   ]
  },
  {
   "cell_type": "code",
   "execution_count": 4,
   "metadata": {},
   "outputs": [
    {
     "data": {
      "application/vnd.microsoft.datawrangler.viewer.v0+json": {
       "columns": [
        {
         "name": "index",
         "rawType": "int64",
         "type": "integer"
        },
        {
         "name": "group",
         "rawType": "object",
         "type": "string"
        },
        {
         "name": "timeDiff",
         "rawType": "int64",
         "type": "integer"
        },
        {
         "name": "w",
         "rawType": "int64",
         "type": "integer"
        },
        {
         "name": "d",
         "rawType": "float64",
         "type": "float"
        },
        {
         "name": "ID",
         "rawType": "float64",
         "type": "float"
        }
       ],
       "conversionMethod": "pd.DataFrame",
       "ref": "2133bf78-513c-491f-bcaf-b8b37f0e23cc",
       "rows": [
        [
         "0",
         "mouse",
         "493",
         "209",
         "13.45362404707371",
         "-2.95743618853928"
        ],
        [
         "1",
         "mouse",
         "390",
         "53",
         "206.65188119153427",
         "2.963138232112193"
        ],
        [
         "2",
         "mouse",
         "591",
         "64",
         "295.0423698386386",
         "3.204778338712913"
        ],
        [
         "3",
         "mouse",
         "398",
         "146",
         "282.5402626175604",
         "1.9524881003331536"
        ],
        [
         "4",
         "mouse",
         "473",
         "34",
         "322.9643943223463",
         "4.247768470205036"
        ]
       ],
       "shape": {
        "columns": 5,
        "rows": 5
       }
      },
      "text/html": [
       "<div>\n",
       "<style scoped>\n",
       "    .dataframe tbody tr th:only-of-type {\n",
       "        vertical-align: middle;\n",
       "    }\n",
       "\n",
       "    .dataframe tbody tr th {\n",
       "        vertical-align: top;\n",
       "    }\n",
       "\n",
       "    .dataframe thead th {\n",
       "        text-align: right;\n",
       "    }\n",
       "</style>\n",
       "<table border=\"1\" class=\"dataframe\">\n",
       "  <thead>\n",
       "    <tr style=\"text-align: right;\">\n",
       "      <th></th>\n",
       "      <th>group</th>\n",
       "      <th>timeDiff</th>\n",
       "      <th>w</th>\n",
       "      <th>d</th>\n",
       "      <th>ID</th>\n",
       "    </tr>\n",
       "  </thead>\n",
       "  <tbody>\n",
       "    <tr>\n",
       "      <th>0</th>\n",
       "      <td>mouse</td>\n",
       "      <td>493</td>\n",
       "      <td>209</td>\n",
       "      <td>13.453624</td>\n",
       "      <td>-2.957436</td>\n",
       "    </tr>\n",
       "    <tr>\n",
       "      <th>1</th>\n",
       "      <td>mouse</td>\n",
       "      <td>390</td>\n",
       "      <td>53</td>\n",
       "      <td>206.651881</td>\n",
       "      <td>2.963138</td>\n",
       "    </tr>\n",
       "    <tr>\n",
       "      <th>2</th>\n",
       "      <td>mouse</td>\n",
       "      <td>591</td>\n",
       "      <td>64</td>\n",
       "      <td>295.042370</td>\n",
       "      <td>3.204778</td>\n",
       "    </tr>\n",
       "    <tr>\n",
       "      <th>3</th>\n",
       "      <td>mouse</td>\n",
       "      <td>398</td>\n",
       "      <td>146</td>\n",
       "      <td>282.540263</td>\n",
       "      <td>1.952488</td>\n",
       "    </tr>\n",
       "    <tr>\n",
       "      <th>4</th>\n",
       "      <td>mouse</td>\n",
       "      <td>473</td>\n",
       "      <td>34</td>\n",
       "      <td>322.964394</td>\n",
       "      <td>4.247768</td>\n",
       "    </tr>\n",
       "  </tbody>\n",
       "</table>\n",
       "</div>"
      ],
      "text/plain": [
       "   group  timeDiff    w           d        ID\n",
       "0  mouse       493  209   13.453624 -2.957436\n",
       "1  mouse       390   53  206.651881  2.963138\n",
       "2  mouse       591   64  295.042370  3.204778\n",
       "3  mouse       398  146  282.540263  1.952488\n",
       "4  mouse       473   34  322.964394  4.247768"
      ]
     },
     "execution_count": 4,
     "metadata": {},
     "output_type": "execute_result"
    }
   ],
   "source": [
    "final_df = analysis.copy()\n",
    "final_df = final_df[['group', 'timeDiff', 'w', 'd']]\n",
    "final_df['ID'] = np.log2(((2*final_df['d'])/final_df['w']))\n",
    "\n",
    "final_df.head()"
   ]
  },
  {
   "cell_type": "code",
   "execution_count": 25,
   "metadata": {},
   "outputs": [
    {
     "data": {
      "image/png": "[encoded data removed]",
      "text/plain": [
       "<Figure size 800x600 with 1 Axes>"
      ]
     },
     "metadata": {},
     "output_type": "display_data"
    }
   ],
   "source": [
    "import matplotlib.pyplot as plt\n",
    "import seaborn as sns\n",
    "import statsmodels.api as sm\n",
    "plt.figure(figsize=(8,6))\n",
    "\n",
    "sns.scatterplot(data=final_df, x='ID', y='timeDiff', hue='group', style='group', s=100)\n",
    "\n",
    "for group in final_df['group'].unique():\n",
    "    group_subset = final_df[final_df['group'] == group]\n",
    "    \n",
    "    # Fit a OLS model for line\n",
    "    X = sm.add_constant(group_subset['ID'])\n",
    "    model = sm.OLS(group_subset['timeDiff'], X).fit()\n",
    "    # getting intercept and slope, our a and b values\n",
    "    slope, intercept = model.params['ID'], model.params['const']\n",
    "    \n",
    "    # This is how were getting the lines\n",
    "    x_vals = np.linspace(group_subset['ID'].min(), group_subset['ID'].max(), 100)\n",
    "    y_vals = intercept + slope * x_vals\n",
    "    plt.plot(x_vals, y_vals, label=f'{group} Trend', linestyle='--')\n",
    "    \n",
    "    # Adding text to show a (delay) and b (acceleration)\n",
    "    if group == 'trackpad':\n",
    "        plt.text(-2.5, 1400, \n",
    "                f'{group} Delay (a):{intercept:.2f},\\n' + f'{group} Acceleration (b): {slope:.2f}', \n",
    "                fontsize=10, color='black')\n",
    "    else:\n",
    "        plt.text(-2.5, 1200, \n",
    "                f'{group} Delay (a):{intercept:.2f},\\n' + f'{group} Acceleration (b): {slope:.2f}', \n",
    "                fontsize=10, color='black')\n",
    "                \n",
    "plt.xlabel(\"ID\")\n",
    "plt.ylabel(\"Movement Time (ms)\")\n",
    "plt.title(\"Fitts' Law between Mouse and Trackpad\")\n",
    "plt.legend()\n",
    "plt.show()"
   ]
  }
 ],
 "metadata": {
  "kernelspec": {
   "display_name": ".venv",
   "language": "python",
   "name": "python3"
  },
  "language_info": {
   "codemirror_mode": {
    "name": "ipython",
    "version": 3
   },
   "file_extension": ".py",
   "mimetype": "text/x-python",
   "name": "python",
   "nbconvert_exporter": "python",
   "pygments_lexer": "ipython3",
   "version": "3.13.2"
  }
 },
 "nbformat": 4,
 "nbformat_minor": 2
}
